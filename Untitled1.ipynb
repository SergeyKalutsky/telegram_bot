{
 "cells": [
  {
   "cell_type": "code",
   "execution_count": 1,
   "metadata": {},
   "outputs": [],
   "source": [
    "from aiogram.types.inline_keyboard import InlineKeyboardButton as InlineKeyboardButton\n",
    "from aiogram.types.inline_keyboard import InlineKeyboardMarkup as InlineKeyboardMarkup\n",
    "\n",
    "\n",
    "def get_keyboard(menu_items):\n",
    "    keyboard = InlineKeyboardMarkup()\n",
    "    for menu_item in menu_items:\n",
    "        btn = InlineKeyboardButton(menu_item, callback_data=menu_item)\n",
    "        keyboard.add(btn)\n",
    "    return keyboard\n",
    "\n",
    "keyboard = {}\n",
    "answer = {}"
   ]
  },
  {
   "cell_type": "code",
   "execution_count": 9,
   "metadata": {},
   "outputs": [],
   "source": [
    "k = get_keyboard(['x', 'y'])"
   ]
  },
  {
   "cell_type": "code",
   "execution_count": 29,
   "metadata": {},
   "outputs": [
    {
     "data": {
      "text/plain": [
       "'x'"
      ]
     },
     "execution_count": 29,
     "metadata": {},
     "output_type": "execute_result"
    }
   ],
   "source": [
    "k.values['inline_keyboard'][0][0].text"
   ]
  },
  {
   "cell_type": "code",
   "execution_count": 30,
   "metadata": {},
   "outputs": [
    {
     "name": "stdout",
     "output_type": "stream",
     "text": [
      "x\n",
      "y\n"
     ]
    }
   ],
   "source": [
    "for val in k.values['inline_keyboard']:\n",
    "    print(val[0].text)"
   ]
  },
  {
   "cell_type": "code",
   "execution_count": null,
   "metadata": {},
   "outputs": [],
   "source": []
  }
 ],
 "metadata": {
  "kernelspec": {
   "display_name": "Python 3",
   "language": "python",
   "name": "python3"
  },
  "language_info": {
   "codemirror_mode": {
    "name": "ipython",
    "version": 3
   },
   "file_extension": ".py",
   "mimetype": "text/x-python",
   "name": "python",
   "nbconvert_exporter": "python",
   "pygments_lexer": "ipython3",
   "version": "3.8.5"
  }
 },
 "nbformat": 4,
 "nbformat_minor": 4
}
