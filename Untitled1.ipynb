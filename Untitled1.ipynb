{
 "cells": [
  {
   "cell_type": "code",
   "execution_count": null,
   "metadata": {},
   "outputs": [],
   "source": [
    "cd web/app/app/"
   ]
  },
  {
   "cell_type": "code",
   "execution_count": 17,
   "metadata": {},
   "outputs": [],
   "source": [
    "import os\n",
    "import docx \n",
    "import json\n",
    "from docx.shared import Inches\n",
    "\n",
    "def write_section(lst, text, doc):\n",
    "    p = doc.add_paragraph()\n",
    "    p.alignment = 1\n",
    "    run = p.add_run(text)\n",
    "    run.bold = True\n",
    "    run.add_break()\n",
    "    \n",
    "    \n",
    "    table = doc.add_table(rows=1, cols=2)\n",
    "    hdr_cells = table.rows[0].cells\n",
    "    hdr_cells[0].text = 'Раздел'\n",
    "    hdr_cells[1].text = 'Описание'\n",
    "    \n",
    "    run = hdr_cells[0].paragraphs[0].runs[0]\n",
    "    run.font.bold = True\n",
    "    run = hdr_cells[1].paragraphs[0].runs[0]\n",
    "    run.font.bold = True\n",
    "\n",
    "    for row in lst:\n",
    "        row_cells = table.add_row().cells\n",
    "        for i in range(len(row)):\n",
    "            row_cells[i].text = row[i]\n",
    "            \n",
    "    doc.add_page_break()\n",
    "\n",
    "def make_word_doc(job_id):\n",
    "    doc = docx.Document()\n",
    "    \n",
    "    with open(f'static/data/{job_id}/data.json', 'r') as f:\n",
    "        data = json.load(f)\n",
    "\n",
    "    photo = data['photo'].copy()\n",
    "    del data['photo']\n",
    "    del data['path']\n",
    "    del data['id']\n",
    "\n",
    "    for key in data:\n",
    "        lst = []\n",
    "        for in_key in data[key]:\n",
    "            lst.append([in_key, str(data[key][in_key]).replace(\"'\", '').\\\n",
    "                        replace('{', '\\n').replace('}, ', '\\n').replace('}','').replace('Другое: ', '')])\n",
    "        write_section(lst, key, doc)\n",
    "        if key in photo:\n",
    "            for ph_key in photo[key]:\n",
    "                for f_name in photo[key][ph_key]:\n",
    "                    doc.add_picture(os.path.join(f'static/data/{job_id}/photo', f_name), width=Inches(3.5))\n",
    "                    p = doc.add_paragraph()\n",
    "                    p.alignment = 1\n",
    "                    run = p.add_run(ph_key)\n",
    "            doc.add_page_break()\n",
    "\n",
    "    doc.add_page_break()\n",
    "    doc.save(f'static/data/{job_id}/отчет.docx')"
   ]
  },
  {
   "cell_type": "code",
   "execution_count": 18,
   "metadata": {},
   "outputs": [],
   "source": [
    "make_word_doc(6)"
   ]
  },
  {
   "cell_type": "code",
   "execution_count": null,
   "metadata": {},
   "outputs": [],
   "source": []
  }
 ],
 "metadata": {
  "kernelspec": {
   "display_name": "Python 3",
   "language": "python",
   "name": "python3"
  },
  "language_info": {
   "codemirror_mode": {
    "name": "ipython",
    "version": 3
   },
   "file_extension": ".py",
   "mimetype": "text/x-python",
   "name": "python",
   "nbconvert_exporter": "python",
   "pygments_lexer": "ipython3",
   "version": "3.8.5"
  }
 },
 "nbformat": 4,
 "nbformat_minor": 4
}
