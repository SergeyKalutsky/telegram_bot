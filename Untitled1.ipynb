{
 "cells": [
  {
   "cell_type": "code",
   "execution_count": 1,
   "metadata": {},
   "outputs": [],
   "source": [
    "from aiogram.types.inline_keyboard import InlineKeyboardButton as InlineKeyboardButton\n",
    "from aiogram.types.inline_keyboard import InlineKeyboardMarkup as InlineKeyboardMarkup\n",
    "\n",
    "\n",
    "def get_keyboard(menu_items):\n",
    "    keyboard = InlineKeyboardMarkup()\n",
    "    for menu_item in menu_items:\n",
    "        btn = InlineKeyboardButton(menu_item, callback_data=menu_item)\n",
    "        keyboard.add(btn)\n",
    "    return keyboard\n",
    "\n",
    "keyboard = {}\n",
    "answer = {}"
   ]
  },
  {
   "cell_type": "code",
   "execution_count": 41,
   "metadata": {},
   "outputs": [],
   "source": [
    "import json\n",
    "with open('data.json', 'r') as f:\n",
    "    res = json.load(f)"
   ]
  },
  {
   "cell_type": "code",
   "execution_count": 44,
   "metadata": {},
   "outputs": [],
   "source": [
    "data = {'id': '2', 'path': '/Общие сведения/Есть ли подвал?/Да/Под всей площадью здания?/', 'photo': {'Общие сведения': {'Есть ли подвал?. Да. Под всей площадью здания?. Да': ['e1ec07ce-91fd-4b62-9cb3-2dc6c76239b1.jpg']}}, 'Общие сведения': {'Год постройки': '1992', 'Есть ли подвал?': {'Да': {'Под всей площадью здания?': {'Да': 'photo'}}}}}"
   ]
  },
  {
   "cell_type": "code",
   "execution_count": 82,
   "metadata": {},
   "outputs": [],
   "source": [
    "from aiogram.types.inline_keyboard import InlineKeyboardButton as InlineKeyboardButton\n",
    "from aiogram.types.inline_keyboard import InlineKeyboardMarkup as InlineKeyboardMarkup\n",
    "\n",
    "def get_keyboard(menu_items):\n",
    "    keyboard = InlineKeyboardMarkup()\n",
    "    for menu_item in menu_items:\n",
    "        btn = InlineKeyboardButton(menu_item, callback_data=menu_item)\n",
    "        keyboard.add(btn)\n",
    "    return keyboard\n",
    "\n",
    "def battn_vals(k):\n",
    "    lst = []\n",
    "    for val in k.values['inline_keyboard']:\n",
    "        lst.append(val[0].text)\n",
    "    return lst\n",
    "\n",
    "def not_filled(path, keyboard, data):\n",
    "    d = data.copy()\n",
    "    buttons = battn_vals(keyboard)\n",
    "    keys = path[1:-1].split('/')\n",
    "    for key in keys:\n",
    "        print(key)\n",
    "        print(d)\n",
    "        if key not in d:\n",
    "            return buttons\n",
    "        d = d[key]\n",
    "        \n",
    "    not_filled_buttons = []\n",
    "    for button in buttons:\n",
    "        if button not in d.keys():\n",
    "            not_filled_buttons.append(button)\n",
    "\n",
    "    return not_filled_buttons"
   ]
  },
  {
   "cell_type": "code",
   "execution_count": 83,
   "metadata": {},
   "outputs": [],
   "source": [
    "data = {'id': '2', 'path': '/Общие сведения/Есть ли подвал?/Да/Под всей площадью здания?/', 'photo': {'Общие сведения': {'Есть ли подвал?. Да. Под всей площадью здания?. Да': ['e1ec07ce-91fd-4b62-9cb3-2dc6c76239b1.jpg']}}, 'Общие сведения': {'Год постройки': '1992', 'Есть ли подвал?': {'Да': {'Под всей площадью здания?': {'Да': 'photo'}}}}}\n",
    "path = '/Общие сведения/Есть ли подвал?/Да/Под всей площадью здания?/'\n",
    "keyboard = get_keyboard(['Да', 'Нет'])"
   ]
  },
  {
   "cell_type": "code",
   "execution_count": 84,
   "metadata": {},
   "outputs": [
    {
     "name": "stdout",
     "output_type": "stream",
     "text": [
      "Общие сведения\n",
      "{'id': '2', 'path': '/Общие сведения/Есть ли подвал?/Да/Под всей площадью здания?/', 'photo': {'Общие сведения': {'Есть ли подвал?. Да. Под всей площадью здания?. Да': ['e1ec07ce-91fd-4b62-9cb3-2dc6c76239b1.jpg']}}, 'Общие сведения': {'Год постройки': '1992', 'Есть ли подвал?': {'Да': {'Под всей площадью здания?': {'Да': 'photo'}}}}}\n",
      "Есть ли подвал?\n",
      "{'Год постройки': '1992', 'Есть ли подвал?': {'Да': {'Под всей площадью здания?': {'Да': 'photo'}}}}\n",
      "Да\n",
      "{'Да': {'Под всей площадью здания?': {'Да': 'photo'}}}\n",
      "Под всей площадью здания?\n",
      "{'Под всей площадью здания?': {'Да': 'photo'}}\n"
     ]
    },
    {
     "data": {
      "text/plain": [
       "['Нет']"
      ]
     },
     "execution_count": 84,
     "metadata": {},
     "output_type": "execute_result"
    }
   ],
   "source": [
    "not_filled(path, keyboard, data)"
   ]
  },
  {
   "cell_type": "code",
   "execution_count": 74,
   "metadata": {},
   "outputs": [
    {
     "data": {
      "text/plain": [
       "dict_keys(['id', 'path', 'photo', 'Общие сведения'])"
      ]
     },
     "execution_count": 74,
     "metadata": {},
     "output_type": "execute_result"
    }
   ],
   "source": [
    "data.keys()"
   ]
  },
  {
   "cell_type": "code",
   "execution_count": 75,
   "metadata": {},
   "outputs": [
    {
     "data": {
      "text/plain": [
       "{'Год постройки': '1992',\n",
       " 'Есть ли подвал?': {'Да': {'Под всей площадью здания?': {'Да': 'photo'}}}}"
      ]
     },
     "execution_count": 75,
     "metadata": {},
     "output_type": "execute_result"
    }
   ],
   "source": [
    "data['Общие сведения']"
   ]
  },
  {
   "cell_type": "code",
   "execution_count": null,
   "metadata": {},
   "outputs": [],
   "source": []
  },
  {
   "cell_type": "code",
   "execution_count": null,
   "metadata": {},
   "outputs": [],
   "source": []
  }
 ],
 "metadata": {
  "kernelspec": {
   "display_name": "Python 3",
   "language": "python",
   "name": "python3"
  },
  "language_info": {
   "codemirror_mode": {
    "name": "ipython",
    "version": 3
   },
   "file_extension": ".py",
   "mimetype": "text/x-python",
   "name": "python",
   "nbconvert_exporter": "python",
   "pygments_lexer": "ipython3",
   "version": "3.8.5"
  }
 },
 "nbformat": 4,
 "nbformat_minor": 4
}
