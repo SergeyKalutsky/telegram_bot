{
 "cells": [
  {
   "cell_type": "code",
   "execution_count": 3,
   "metadata": {},
   "outputs": [
    {
     "name": "stdout",
     "output_type": "stream",
     "text": [
      "/home/user/personal/lib/telegram_bot/data\n"
     ]
    }
   ],
   "source": [
    "cd data/"
   ]
  },
  {
   "cell_type": "code",
   "execution_count": 26,
   "metadata": {},
   "outputs": [],
   "source": [
    "import docx \n",
    "import json\n",
    "\n",
    "def write_section(lst, text, doc):\n",
    "    p = doc.add_paragraph()\n",
    "    p.alignment = 1\n",
    "    run = p.add_run(text)\n",
    "    run.bold = True\n",
    "    run.add_break()\n",
    "    \n",
    "    \n",
    "    table = doc.add_table(rows=1, cols=2)\n",
    "    hdr_cells = table.rows[0].cells\n",
    "    hdr_cells[0].text = 'Раздел'\n",
    "    hdr_cells[1].text = 'Описание'\n",
    "    \n",
    "    run = hdr_cells[0].paragraphs[0].runs[0]\n",
    "    run.font.bold = True\n",
    "    run = hdr_cells[1].paragraphs[0].runs[0]\n",
    "    run.font.bold = True\n",
    "\n",
    "    for row in lst:\n",
    "        row_cells = table.add_row().cells\n",
    "        for i in range(len(row)):\n",
    "            row_cells[i].text = row[i]\n",
    "            \n",
    "    doc.add_page_break()\n",
    "\n",
    "doc = docx.Document()\n",
    "\n",
    "with open('test.json', 'r') as f:\n",
    "    data = json.load(f)\n",
    "\n",
    "del data['path']\n",
    "\n",
    "for key in data:\n",
    "    lst = []\n",
    "    for in_key in data[key]:\n",
    "        lst.append([in_key, str(data[key][in_key]).replace(\"'\", '').\\\n",
    "                    replace('{', '').replace('}', '').replace('Другое: ', '')])\n",
    "    write_section(lst, key, doc)\n",
    "\n",
    "doc.add_page_break()\n",
    "doc.save(\"test.docx\")"
   ]
  },
  {
   "cell_type": "code",
   "execution_count": 27,
   "metadata": {},
   "outputs": [
    {
     "data": {
      "text/plain": [
       "{'Крыша': {'Утеплитель': {'Размеры': {'Толщина': '34',\n",
       "    'Фото замера': ['8d598ef8-e474-44dc-b973-567a687908e4.jpg']},\n",
       "   'Материал': {'Другое': 'Шлачище'},\n",
       "   'Состояние': 'Норм'},\n",
       "  'Отопление': {'Наличие магистралей': {'Да': {'Материал': 'Сталь',\n",
       "     'Диаметры': '34'}}},\n",
       "  'Освещение': {'Тип кабеля': {'Алюминий': {'Сечение': '120 см'}}},\n",
       "  'Водоснабжение': {'Фото': {'Общие фото': ['ddb8d6d9-8046-4aa6-ae48-5a44e7e8387c.jpg'],\n",
       "    'Фото дефектов с описанием': ['1218cf63-ef41-45ce-aa68-a57b62418eda.jpg']}},\n",
       "  'Ограждение': {'Материал': 'Металл'}},\n",
       " 'Общие сведения': {'Площадь': {'Жилая': '1000', 'Общая': '2000'},\n",
       "  'Высота здания': '40 м',\n",
       "  'Наличие арендаторов': 'Да',\n",
       "  'Количество секций': '45'},\n",
       " 'МОПы': {'Двери': {'Материал': 'Дерево',\n",
       "   'Размеры': {'Высота': '120 см', 'Ширина': '130 см'}},\n",
       "  'Мусоропровод': {'Да': {'Количество клапанов': '25',\n",
       "    'Фото': ['5effc3cb-ae1c-442b-b528-34f9fdc8e218.jpg'],\n",
       "    'Наличие мусорокамер': 'Нет'}}},\n",
       " 'Квартиры': {'Планировка БТИ на квартиру': {'Да': 'Занести в проект'}},\n",
       " 'Подвал': {'Окна': {'Размеры': {'Высота': '139', 'Ширина': '45'},\n",
       "   'Решетки': 'Да',\n",
       "   'Количество стеклопакетов': '56',\n",
       "   'Подоконники': {'Размер': {'Ширина': '67', 'Длина': '89'}}},\n",
       "  'Водоснабжение': {'Фото': {'Общие фото': ['ece09a16-b8e9-4610-bd04-b28039147868.jpg'],\n",
       "    'Фото дефектов с описанием': ['f041d853-9057-4fd1-ae60-dc6a8c0137c4.jpg']}}}}"
      ]
     },
     "execution_count": 27,
     "metadata": {},
     "output_type": "execute_result"
    }
   ],
   "source": [
    "data"
   ]
  },
  {
   "cell_type": "code",
   "execution_count": null,
   "metadata": {},
   "outputs": [],
   "source": [
    "document.add_picture('image-filename.png')"
   ]
  }
 ],
 "metadata": {
  "kernelspec": {
   "display_name": "Python 3",
   "language": "python",
   "name": "python3"
  },
  "language_info": {
   "codemirror_mode": {
    "name": "ipython",
    "version": 3
   },
   "file_extension": ".py",
   "mimetype": "text/x-python",
   "name": "python",
   "nbconvert_exporter": "python",
   "pygments_lexer": "ipython3",
   "version": "3.8.5"
  }
 },
 "nbformat": 4,
 "nbformat_minor": 4
}
