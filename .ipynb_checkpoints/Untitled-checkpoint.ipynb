{
 "cells": [
  {
   "cell_type": "code",
   "execution_count": 3,
   "metadata": {},
   "outputs": [
    {
     "name": "stdout",
     "output_type": "stream",
     "text": [
      "/home/user/personal/lib/telegram_bot/data\n"
     ]
    }
   ],
   "source": [
    "cd data/"
   ]
  },
  {
   "cell_type": "code",
   "execution_count": 67,
   "metadata": {},
   "outputs": [],
   "source": [
    "import os\n",
    "import docx \n",
    "import json\n",
    "from docx.shared import Inches\n",
    "\n",
    "def write_section(lst, text, doc):\n",
    "    p = doc.add_paragraph()\n",
    "    p.alignment = 1\n",
    "    run = p.add_run(text)\n",
    "    run.bold = True\n",
    "    run.add_break()\n",
    "    \n",
    "    \n",
    "    table = doc.add_table(rows=1, cols=2)\n",
    "    hdr_cells = table.rows[0].cells\n",
    "    hdr_cells[0].text = 'Раздел'\n",
    "    hdr_cells[1].text = 'Описание'\n",
    "    \n",
    "    run = hdr_cells[0].paragraphs[0].runs[0]\n",
    "    run.font.bold = True\n",
    "    run = hdr_cells[1].paragraphs[0].runs[0]\n",
    "    run.font.bold = True\n",
    "\n",
    "    for row in lst:\n",
    "        row_cells = table.add_row().cells\n",
    "        for i in range(len(row)):\n",
    "            row_cells[i].text = row[i]\n",
    "            \n",
    "    doc.add_page_break()\n",
    "\n",
    "doc = docx.Document()\n",
    "\n",
    "with open('test.json', 'r') as f:\n",
    "    data = json.load(f)\n",
    "\n",
    "photo = data['photo'].copy()\n",
    "del data['photo']\n",
    "del data['path']\n",
    "\n",
    "for key in data:\n",
    "    lst = []\n",
    "    for in_key in data[key]:\n",
    "        lst.append([in_key, str(data[key][in_key]).replace(\"'\", '').\\\n",
    "                    replace('{', '').replace('}', '').replace('Другое: ', '')])\n",
    "    write_section(lst, key, doc)\n",
    "    if key in photo:\n",
    "        for ph_key in photo[key]:\n",
    "            if len(photo[key][ph_key]) == 1:\n",
    "                doc.add_picture(os.path.join('photo', photo[key][ph_key][0]), width=Inches(3.5))\n",
    "                p = doc.add_paragraph()\n",
    "                p.alignment = 1\n",
    "                run = p.add_run(ph_key)\n",
    "        doc.add_page_break()\n",
    "\n",
    "doc.add_page_break()\n",
    "doc.save(\"test.docx\")"
   ]
  },
  {
   "cell_type": "code",
   "execution_count": 56,
   "metadata": {},
   "outputs": [
    {
     "data": {
      "text/plain": [
       "{'Квартиры': {'Фото. Эл счетчик': ['d7df1234-d58b-4156-b141-3ebc61836479.jpg',\n",
       "   'ef36f558-2648-41c7-8928-b126aa8cc66c.jpg'],\n",
       "  'Фото. Счетчиков': ['6e00e8c2-9bb1-409c-a665-5d65fa08f14b.jpg']},\n",
       " 'Крыша': {'Водоснабжение. Фото. Общие фото': ['097eeec4-4502-4642-8e04-18f6323f4d00.jpg'],\n",
       "  'Водоснабжение. Фото. Фото зарис. аксоном. схемы': ['f74ca96b-ac52-4e82-ab89-010f25966406.jpg']},\n",
       " 'Фасады': {'Окна. МОП. Фото. Общие фото': ['c61eecc4-7508-42b7-a69e-c3b6db4903f6.jpg'],\n",
       "  'Окна. МОП. Фото': ['fd96b5db-7c35-42df-a604-fe8cfc3c9f42.jpg']}}"
      ]
     },
     "execution_count": 56,
     "metadata": {},
     "output_type": "execute_result"
    }
   ],
   "source": [
    "photo"
   ]
  },
  {
   "cell_type": "code",
   "execution_count": null,
   "metadata": {},
   "outputs": [],
   "source": []
  }
 ],
 "metadata": {
  "kernelspec": {
   "display_name": "Python 3",
   "language": "python",
   "name": "python3"
  },
  "language_info": {
   "codemirror_mode": {
    "name": "ipython",
    "version": 3
   },
   "file_extension": ".py",
   "mimetype": "text/x-python",
   "name": "python",
   "nbconvert_exporter": "python",
   "pygments_lexer": "ipython3",
   "version": "3.8.5"
  }
 },
 "nbformat": 4,
 "nbformat_minor": 4
}
