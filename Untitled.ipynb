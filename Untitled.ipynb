{
 "cells": [
  {
   "cell_type": "code",
   "execution_count": 1,
   "metadata": {},
   "outputs": [
    {
     "name": "stdout",
     "output_type": "stream",
     "text": [
      "/home/user/personal/lib/telegram_bot/web/app/app\n"
     ]
    }
   ],
   "source": [
    "cd web/app/app"
   ]
  },
  {
   "cell_type": "code",
   "execution_count": 4,
   "metadata": {},
   "outputs": [],
   "source": [
    "import os\n",
    "import docx\n",
    "import json\n",
    "from docx.shared import Inches\n",
    "\n",
    "\n",
    "def write_section(lst, text, doc):\n",
    "    p = doc.add_paragraph()\n",
    "    p.alignment = 1\n",
    "    run = p.add_run(text)\n",
    "    run.bold = True\n",
    "    run.add_break()\n",
    "\n",
    "    table = doc.add_table(rows=1, cols=2)\n",
    "    hdr_cells = table.rows[0].cells\n",
    "    hdr_cells[0].text = 'Раздел'\n",
    "    hdr_cells[1].text = 'Описание'\n",
    "\n",
    "    run = hdr_cells[0].paragraphs[0].runs[0]\n",
    "    run.font.bold = True\n",
    "    run = hdr_cells[1].paragraphs[0].runs[0]\n",
    "    run.font.bold = True\n",
    "\n",
    "    for row in lst:\n",
    "        row_cells = table.add_row().cells\n",
    "        for i in range(len(row)):\n",
    "            row_cells[i].text = row[i]\n",
    "\n",
    "    doc.add_page_break()\n",
    "\n",
    "\n",
    "\n",
    "def make_word_doc(job_id, company, house):\n",
    "\n",
    "    doc = docx.Document()\n",
    "\n",
    "    p = doc.add_paragraph()\n",
    "    p.alignment = 1\n",
    "    run = p.add_run(company)\n",
    "    run.bold = True\n",
    "    run.add_break()\n",
    "\n",
    "    p = doc.add_paragraph()\n",
    "    p.alignment = 1\n",
    "    run = p.add_run(house)\n",
    "    run.bold = True\n",
    "    run.add_break()\n",
    "\n",
    "    with open(f'static/data/{job_id}/data.json', 'r') as f:\n",
    "        data = json.load(f)\n",
    "\n",
    "    photo = data['photo'].copy()\n",
    "    del data['id']\n",
    "    del data['photo']\n",
    "    del data['path']\n",
    "\n",
    "    for key in data:\n",
    "        lst = []\n",
    "        for in_key in data[key]:\n",
    "            lst.append([in_key, str(data[key][in_key]).replace(\"'\", '').\n",
    "                        replace('{', '\\n').replace('}, ', '\\n').replace('}', '').replace('Другое: ', '')])\n",
    "\n",
    "        write_section(lst, key, doc)\n",
    "        if key in photo:\n",
    "            for ph_key in photo[key]:\n",
    "                for f_name in photo[key][ph_key]:\n",
    "                    doc.add_picture(os.path.join(f'static/data/{job_id}/photo', f_name), width=Inches(3.5))\n",
    "                    p = doc.add_paragraph()\n",
    "                    p.alignment = 1\n",
    "                    p.add_run(ph_key)\n",
    "            doc.add_page_break()\n",
    "\n",
    "    doc.add_page_break()\n",
    "    doc.save(f'static/data/{job_id}/отчет.docx')"
   ]
  },
  {
   "cell_type": "code",
   "execution_count": 5,
   "metadata": {},
   "outputs": [],
   "source": [
    "make_word_doc(6, 'Рога и копыта', 'ул Генерала Белова д 47')"
   ]
  },
  {
   "cell_type": "code",
   "execution_count": 7,
   "metadata": {},
   "outputs": [
    {
     "name": "stdout",
     "output_type": "stream",
     "text": [
      "/home/user/personal/lib/telegram_bot/web/app/app/static/data\n"
     ]
    }
   ],
   "source": [
    "cd static/data"
   ]
  },
  {
   "cell_type": "code",
   "execution_count": 11,
   "metadata": {},
   "outputs": [
    {
     "data": {
      "text/plain": [
       "'/home/user/personal/lib/telegram_bot/web/app/app/static/data/data.zip'"
      ]
     },
     "execution_count": 11,
     "metadata": {},
     "output_type": "execute_result"
    }
   ],
   "source": [
    "import shutil\n",
    "shutil.make_archive('data', 'zip', '1')"
   ]
  },
  {
   "cell_type": "code",
   "execution_count": 12,
   "metadata": {},
   "outputs": [
    {
     "name": "stdout",
     "output_type": "stream",
     "text": [
      "\u001b[0m\u001b[01;34m1\u001b[0m/  \u001b[01;34m2\u001b[0m/  \u001b[01;34m3\u001b[0m/  \u001b[01;34m5\u001b[0m/  \u001b[01;34m6\u001b[0m/  \u001b[01;34m7\u001b[0m/  \u001b[01;31mdata.zip\u001b[0m\n"
     ]
    }
   ],
   "source": [
    "ls"
   ]
  },
  {
   "cell_type": "code",
   "execution_count": null,
   "metadata": {},
   "outputs": [],
   "source": []
  }
 ],
 "metadata": {
  "kernelspec": {
   "display_name": "Python 3",
   "language": "python",
   "name": "python3"
  },
  "language_info": {
   "codemirror_mode": {
    "name": "ipython",
    "version": 3
   },
   "file_extension": ".py",
   "mimetype": "text/x-python",
   "name": "python",
   "nbconvert_exporter": "python",
   "pygments_lexer": "ipython3",
   "version": "3.8.5"
  }
 },
 "nbformat": 4,
 "nbformat_minor": 4
}
