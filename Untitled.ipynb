{
 "cells": [
  {
   "cell_type": "code",
   "execution_count": 1,
   "metadata": {},
   "outputs": [
    {
     "name": "stdout",
     "output_type": "stream",
     "text": [
      "/home/user/personal/lib/telegram_bot/data\n"
     ]
    }
   ],
   "source": [
    "cd data/"
   ]
  },
  {
   "cell_type": "code",
   "execution_count": 2,
   "metadata": {},
   "outputs": [],
   "source": [
    "import os\n",
    "import docx \n",
    "import json\n",
    "from docx.shared import Inches\n",
    "\n",
    "def write_section(lst, text, doc):\n",
    "    p = doc.add_paragraph()\n",
    "    p.alignment = 1\n",
    "    run = p.add_run(text)\n",
    "    run.bold = True\n",
    "    run.add_break()\n",
    "    \n",
    "    \n",
    "    table = doc.add_table(rows=1, cols=2)\n",
    "    hdr_cells = table.rows[0].cells\n",
    "    hdr_cells[0].text = 'Раздел'\n",
    "    hdr_cells[1].text = 'Описание'\n",
    "    \n",
    "    run = hdr_cells[0].paragraphs[0].runs[0]\n",
    "    run.font.bold = True\n",
    "    run = hdr_cells[1].paragraphs[0].runs[0]\n",
    "    run.font.bold = True\n",
    "\n",
    "    for row in lst:\n",
    "        row_cells = table.add_row().cells\n",
    "        for i in range(len(row)):\n",
    "            row_cells[i].text = row[i]\n",
    "            \n",
    "    doc.add_page_break()\n",
    "\n",
    "doc = docx.Document()\n",
    "\n",
    "with open('test.json', 'r') as f:\n",
    "    data = json.load(f)\n",
    "\n",
    "photo = data['photo'].copy()\n",
    "del data['photo']\n",
    "del data['path']\n",
    "\n",
    "for key in data:\n",
    "    lst = []\n",
    "    for in_key in data[key]:\n",
    "        lst.append([in_key, str(data[key][in_key]).replace(\"'\", '').\\\n",
    "                    replace('{', '\\n').replace('}, ', '\\n').replace('}','').replace('Другое: ', '')])\n",
    "    write_section(lst, key, doc)\n",
    "    if key in photo:\n",
    "        for ph_key in photo[key]:\n",
    "            for f_name in photo[key][ph_key]:\n",
    "                doc.add_picture(os.path.join('photo', f_name), width=Inches(3.5))\n",
    "                p = doc.add_paragraph()\n",
    "                p.alignment = 1\n",
    "                run = p.add_run(ph_key)\n",
    "        doc.add_page_break()\n",
    "\n",
    "doc.add_page_break()\n",
    "doc.save(\"test.docx\")"
   ]
  },
  {
   "cell_type": "code",
   "execution_count": 5,
   "metadata": {},
   "outputs": [
    {
     "data": {
      "text/plain": [
       "{'Фасады': {'Фасад': {'Главный фасад': {'Наличие декоративных элементов': 'Фасады',\n",
       "    'Входные группы': {'Ограждения': {'Высота': '67',\n",
       "      'Материал': 'Полипропилеен',\n",
       "      'Поручни': {'Длина': '56', 'Ширина': '90', 'Высота': '54'}},\n",
       "     'Ступени': {'Высота ступеней': '78',\n",
       "      'Количество ступеней': '45',\n",
       "      'Материал отделки': 'Горо'},\n",
       "     'Двери': {'Входная дверь': {'Размеры': {'Ширина': '67', 'Высота': '89'},\n",
       "       'Материал': 'Металл',\n",
       "       'Наличие декоративных элементов': {'Да': 'Шнппл9ж'}},\n",
       "      'Тамбурная дверь': {'Да': {'Размеры': {'Ширина': '45', 'Высота': '90'},\n",
       "        'Материал': 'Металл'}}}},\n",
       "    'Пожарная лестница': {'Да': {'Размеры': {'Шаг ступеней': '7',\n",
       "       'Ширина': '68',\n",
       "       'Длина': '90'},\n",
       "      'Крепление к стене': 'Гоит'}}},\n",
       "   'Цоколь': {'Материал отделки': 'Керамическая плитка',\n",
       "    'Наличие декоративных элементов': {'Да': 'Лепнина'},\n",
       "    'Размер': {'Длина': '56', 'Высота': '98'}},\n",
       "   'Приямки': {'Да': {'Размеры': {'Глубина': '68',\n",
       "      'Высота над уровнем земли': '65'},\n",
       "     'Материал': 'Бетон',\n",
       "     'Отделка': 'Штукатурка и покраска',\n",
       "     'Гидроизоляция': 'Нет'}}},\n",
       "  'Окна': {'МОП': {'Материал': 'Пластиковые',\n",
       "    'Размеры': {'Ширина': '76', 'Высота': '45'},\n",
       "    'Отливы': {'Материал': 'Пластик'}}}}}"
      ]
     },
     "execution_count": 5,
     "metadata": {},
     "output_type": "execute_result"
    }
   ],
   "source": [
    "data"
   ]
  },
  {
   "cell_type": "code",
   "execution_count": null,
   "metadata": {},
   "outputs": [],
   "source": []
  }
 ],
 "metadata": {
  "kernelspec": {
   "display_name": "Python 3",
   "language": "python",
   "name": "python3"
  },
  "language_info": {
   "codemirror_mode": {
    "name": "ipython",
    "version": 3
   },
   "file_extension": ".py",
   "mimetype": "text/x-python",
   "name": "python",
   "nbconvert_exporter": "python",
   "pygments_lexer": "ipython3",
   "version": "3.8.5"
  }
 },
 "nbformat": 4,
 "nbformat_minor": 4
}
