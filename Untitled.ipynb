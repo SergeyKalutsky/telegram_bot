{
 "cells": [
  {
   "cell_type": "code",
   "execution_count": 3,
   "metadata": {},
   "outputs": [
    {
     "name": "stdout",
     "output_type": "stream",
     "text": [
      "/home/user/personal/lib/telegram_bot/data\n"
     ]
    }
   ],
   "source": [
    "cd data/"
   ]
  },
  {
   "cell_type": "code",
   "execution_count": 28,
   "metadata": {},
   "outputs": [],
   "source": [
    "import docx \n",
    "import json\n",
    "\n",
    "def write_section(lst, text, doc):\n",
    "    p = doc.add_paragraph()\n",
    "    p.alignment = 1\n",
    "    run = p.add_run(text)\n",
    "    run.bold = True\n",
    "    run.add_break()\n",
    "    \n",
    "    \n",
    "    table = doc.add_table(rows=1, cols=2)\n",
    "    hdr_cells = table.rows[0].cells\n",
    "    hdr_cells[0].text = 'Раздел'\n",
    "    hdr_cells[1].text = 'Описание'\n",
    "    \n",
    "    run = hdr_cells[0].paragraphs[0].runs[0]\n",
    "    run.font.bold = True\n",
    "    run = hdr_cells[1].paragraphs[0].runs[0]\n",
    "    run.font.bold = True\n",
    "\n",
    "    for row in lst:\n",
    "        row_cells = table.add_row().cells\n",
    "        for i in range(len(row)):\n",
    "            row_cells[i].text = row[i]\n",
    "            \n",
    "    doc.add_page_break()\n",
    "\n",
    "doc = docx.Document()\n",
    "\n",
    "with open('test.json', 'r') as f:\n",
    "    data = json.load(f)\n",
    "\n",
    "del data['path']\n",
    "\n",
    "for key in data:\n",
    "    lst = []\n",
    "    for in_key in data[key]:\n",
    "        lst.append([in_key, str(data[key][in_key]).replace(\"'\", '').\\\n",
    "                    replace('{', '').replace('}', '').replace('Другое: ', '')])\n",
    "    write_section(lst, key, doc)\n",
    "\n",
    "doc.add_page_break()\n",
    "doc.save(\"test.docx\")"
   ]
  },
  {
   "cell_type": "code",
   "execution_count": 38,
   "metadata": {},
   "outputs": [
    {
     "data": {
      "text/plain": [
       "'Канализация. Колодца. Фото схемы расположения'"
      ]
     },
     "execution_count": 38,
     "metadata": {},
     "output_type": "execute_result"
    }
   ],
   "source": [
    "path = '/Подвал/Канализация/Колодца/Фото схемы расположения/'\n",
    "\n",
    "'. '.join(path[1:-1].split('/')[1:])"
   ]
  },
  {
   "cell_type": "code",
   "execution_count": null,
   "metadata": {},
   "outputs": [],
   "source": [
    "def put_key_json(path, data, val, photo=False):\n",
    "    keys = path[1:-1].split('/')\n",
    "\n",
    "    if not photo:\n",
    "        for i in range(len(keys)-1):\n",
    "            if keys[i] not in data:\n",
    "                data[keys[i]] = {keys[i+1]: {}}\n",
    "            data = data[keys[i]]\n",
    "        data[keys[-1]] = val\n",
    "        \n",
    "    else:\n",
    "        data = data['photo']\n",
    "        print(data)\n",
    "        if keys[0] not in data:\n",
    "            data = {keys[0]: {}}\n",
    "        print(data)\n",
    "        data = data[keys[0]]\n",
    "        print(data)\n",
    "        key = '. '.join(keys[1:])\n",
    "        if key not in data or type(data[key]) == dict:\n",
    "            data[keys[-1]] = [val]\n",
    "        else:\n",
    "            data[keys[-1]].append(val)\n"
   ]
  }
 ],
 "metadata": {
  "kernelspec": {
   "display_name": "Python 3",
   "language": "python",
   "name": "python3"
  },
  "language_info": {
   "codemirror_mode": {
    "name": "ipython",
    "version": 3
   },
   "file_extension": ".py",
   "mimetype": "text/x-python",
   "name": "python",
   "nbconvert_exporter": "python",
   "pygments_lexer": "ipython3",
   "version": "3.8.5"
  }
 },
 "nbformat": 4,
 "nbformat_minor": 4
}
