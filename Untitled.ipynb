{
 "cells": [
  {
   "cell_type": "code",
   "execution_count": 24,
   "metadata": {},
   "outputs": [
    {
     "name": "stdout",
     "output_type": "stream",
     "text": [
      "/home/user/personal/lib/telegram_bot/web/app/app\n"
     ]
    }
   ],
   "source": [
    "cd web/app/app"
   ]
  },
  {
   "cell_type": "code",
   "execution_count": 49,
   "metadata": {},
   "outputs": [],
   "source": [
    "import os\n",
    "import docx\n",
    "import json\n",
    "from docx.shared import Inches\n",
    "\n",
    "\n",
    "def write_section(lst, text, doc):\n",
    "    p = doc.add_paragraph()\n",
    "    p.alignment = 1\n",
    "    run = p.add_run(text)\n",
    "    run.bold = True\n",
    "    run.add_break()\n",
    "\n",
    "    table = doc.add_table(rows=1, cols=2)\n",
    "    hdr_cells = table.rows[0].cells\n",
    "    hdr_cells[0].text = 'Раздел'\n",
    "    hdr_cells[1].text = 'Описание'\n",
    "\n",
    "    run = hdr_cells[0].paragraphs[0].runs[0]\n",
    "    run.font.bold = True\n",
    "    run = hdr_cells[1].paragraphs[0].runs[0]\n",
    "    run.font.bold = True\n",
    "\n",
    "    for row in lst:\n",
    "        row_cells = table.add_row().cells\n",
    "        for i in range(len(row)):\n",
    "            row_cells[i].text = row[i]\n",
    "\n",
    "    doc.add_page_break()\n",
    "\n",
    "\n",
    "\n",
    "def make_word_doc(job_id, company, house):\n",
    "\n",
    "    doc = docx.Document()\n",
    "\n",
    "    p = doc.add_paragraph()\n",
    "    p.alignment = 1\n",
    "    run = p.add_run(company)\n",
    "    run.bold = True\n",
    "    run.add_break()\n",
    "\n",
    "    p = doc.add_paragraph()\n",
    "    p.alignment = 1\n",
    "    run = p.add_run(house)\n",
    "    run.bold = True\n",
    "    run.add_break()\n",
    "\n",
    "    with open(f'static/data/{job_id}/data.json', 'r') as f:\n",
    "        data = json.load(f)\n",
    "#     return data\n",
    "    photo = data['photo'].copy()\n",
    "    del data['id']\n",
    "    del data['photo']\n",
    "    del data['path']\n",
    "\n",
    "    for key in data:\n",
    "        lst = []\n",
    "        if type(data[key]) ==  str:\n",
    "            lst.append([key, str(data[key]).replace(\"'\", '').\n",
    "                        replace('{', '\\n').replace('}, ', '\\n').replace('}', '').replace('Другое: ', '')])\n",
    "        else:\n",
    "            for in_key in data[key]:\n",
    "                lst.append([in_key, str(data[key][in_key]).replace(\"'\", '').\n",
    "                            replace('{', '\\n').replace('}, ', '\\n').replace('}', '').replace('Другое: ', '')])\n",
    "\n",
    "        write_section(lst, key, doc)\n",
    "        if key in photo:\n",
    "            print(key)\n",
    "            for ph_key in photo[key]:\n",
    "                for f_name in photo[key][ph_key]:\n",
    "                    doc.add_picture(os.path.join(f'static/data/{job_id}/photo', f_name), width=Inches(3.5))\n",
    "                    p = doc.add_paragraph()\n",
    "                    p.alignment = 1\n",
    "                    p.add_run(ph_key)\n",
    "            doc.add_page_break()\n",
    "\n",
    "    doc.add_page_break()\n",
    "    doc.save(f'static/data/{job_id}/отчет.docx')\n"
   ]
  },
  {
   "cell_type": "code",
   "execution_count": 50,
   "metadata": {},
   "outputs": [
    {
     "name": "stdout",
     "output_type": "stream",
     "text": [
      "Общие сведения\n"
     ]
    },
    {
     "ename": "PermissionError",
     "evalue": "[Errno 13] Permission denied: 'static/data/16/отчет.docx'",
     "output_type": "error",
     "traceback": [
      "\u001b[0;31m---------------------------------------------------------------------------\u001b[0m",
      "\u001b[0;31mPermissionError\u001b[0m                           Traceback (most recent call last)",
      "\u001b[0;32m<ipython-input-50-156f13bcb0df>\u001b[0m in \u001b[0;36m<module>\u001b[0;34m\u001b[0m\n\u001b[0;32m----> 1\u001b[0;31m \u001b[0mmake_word_doc\u001b[0m\u001b[0;34m(\u001b[0m\u001b[0;36m16\u001b[0m\u001b[0;34m,\u001b[0m \u001b[0;34m'sd'\u001b[0m\u001b[0;34m,\u001b[0m\u001b[0;34m'ds'\u001b[0m\u001b[0;34m)\u001b[0m\u001b[0;34m\u001b[0m\u001b[0;34m\u001b[0m\u001b[0m\n\u001b[0m",
      "\u001b[0;32m<ipython-input-49-d8502a3ed2f8>\u001b[0m in \u001b[0;36mmake_word_doc\u001b[0;34m(job_id, company, house)\u001b[0m\n\u001b[1;32m     77\u001b[0m \u001b[0;34m\u001b[0m\u001b[0m\n\u001b[1;32m     78\u001b[0m     \u001b[0mdoc\u001b[0m\u001b[0;34m.\u001b[0m\u001b[0madd_page_break\u001b[0m\u001b[0;34m(\u001b[0m\u001b[0;34m)\u001b[0m\u001b[0;34m\u001b[0m\u001b[0;34m\u001b[0m\u001b[0m\n\u001b[0;32m---> 79\u001b[0;31m     \u001b[0mdoc\u001b[0m\u001b[0;34m.\u001b[0m\u001b[0msave\u001b[0m\u001b[0;34m(\u001b[0m\u001b[0;34mf'static/data/{job_id}/отчет.docx'\u001b[0m\u001b[0;34m)\u001b[0m\u001b[0;34m\u001b[0m\u001b[0;34m\u001b[0m\u001b[0m\n\u001b[0m",
      "\u001b[0;32m~/anaconda3/lib/python3.8/site-packages/docx/document.py\u001b[0m in \u001b[0;36msave\u001b[0;34m(self, path_or_stream)\u001b[0m\n\u001b[1;32m    133\u001b[0m         \u001b[0ma\u001b[0m \u001b[0mfilesystem\u001b[0m \u001b[0mlocation\u001b[0m \u001b[0;34m(\u001b[0m\u001b[0ma\u001b[0m \u001b[0mstring\u001b[0m\u001b[0;34m)\u001b[0m \u001b[0;32mor\u001b[0m \u001b[0ma\u001b[0m \u001b[0mfile\u001b[0m\u001b[0;34m-\u001b[0m\u001b[0mlike\u001b[0m \u001b[0mobject\u001b[0m\u001b[0;34m.\u001b[0m\u001b[0;34m\u001b[0m\u001b[0;34m\u001b[0m\u001b[0m\n\u001b[1;32m    134\u001b[0m         \"\"\"\n\u001b[0;32m--> 135\u001b[0;31m         \u001b[0mself\u001b[0m\u001b[0;34m.\u001b[0m\u001b[0m_part\u001b[0m\u001b[0;34m.\u001b[0m\u001b[0msave\u001b[0m\u001b[0;34m(\u001b[0m\u001b[0mpath_or_stream\u001b[0m\u001b[0;34m)\u001b[0m\u001b[0;34m\u001b[0m\u001b[0;34m\u001b[0m\u001b[0m\n\u001b[0m\u001b[1;32m    136\u001b[0m \u001b[0;34m\u001b[0m\u001b[0m\n\u001b[1;32m    137\u001b[0m     \u001b[0;34m@\u001b[0m\u001b[0mproperty\u001b[0m\u001b[0;34m\u001b[0m\u001b[0;34m\u001b[0m\u001b[0m\n",
      "\u001b[0;32m~/anaconda3/lib/python3.8/site-packages/docx/parts/document.py\u001b[0m in \u001b[0;36msave\u001b[0;34m(self, path_or_stream)\u001b[0m\n\u001b[1;32m    109\u001b[0m         \u001b[0ma\u001b[0m \u001b[0mfilesystem\u001b[0m \u001b[0mlocation\u001b[0m \u001b[0;34m(\u001b[0m\u001b[0ma\u001b[0m \u001b[0mstring\u001b[0m\u001b[0;34m)\u001b[0m \u001b[0;32mor\u001b[0m \u001b[0ma\u001b[0m \u001b[0mfile\u001b[0m\u001b[0;34m-\u001b[0m\u001b[0mlike\u001b[0m \u001b[0mobject\u001b[0m\u001b[0;34m.\u001b[0m\u001b[0;34m\u001b[0m\u001b[0;34m\u001b[0m\u001b[0m\n\u001b[1;32m    110\u001b[0m         \"\"\"\n\u001b[0;32m--> 111\u001b[0;31m         \u001b[0mself\u001b[0m\u001b[0;34m.\u001b[0m\u001b[0mpackage\u001b[0m\u001b[0;34m.\u001b[0m\u001b[0msave\u001b[0m\u001b[0;34m(\u001b[0m\u001b[0mpath_or_stream\u001b[0m\u001b[0;34m)\u001b[0m\u001b[0;34m\u001b[0m\u001b[0;34m\u001b[0m\u001b[0m\n\u001b[0m\u001b[1;32m    112\u001b[0m \u001b[0;34m\u001b[0m\u001b[0m\n\u001b[1;32m    113\u001b[0m     \u001b[0;34m@\u001b[0m\u001b[0mproperty\u001b[0m\u001b[0;34m\u001b[0m\u001b[0;34m\u001b[0m\u001b[0m\n",
      "\u001b[0;32m~/anaconda3/lib/python3.8/site-packages/docx/opc/package.py\u001b[0m in \u001b[0;36msave\u001b[0;34m(self, pkg_file)\u001b[0m\n\u001b[1;32m    170\u001b[0m         \u001b[0;32mfor\u001b[0m \u001b[0mpart\u001b[0m \u001b[0;32min\u001b[0m \u001b[0mself\u001b[0m\u001b[0;34m.\u001b[0m\u001b[0mparts\u001b[0m\u001b[0;34m:\u001b[0m\u001b[0;34m\u001b[0m\u001b[0;34m\u001b[0m\u001b[0m\n\u001b[1;32m    171\u001b[0m             \u001b[0mpart\u001b[0m\u001b[0;34m.\u001b[0m\u001b[0mbefore_marshal\u001b[0m\u001b[0;34m(\u001b[0m\u001b[0;34m)\u001b[0m\u001b[0;34m\u001b[0m\u001b[0;34m\u001b[0m\u001b[0m\n\u001b[0;32m--> 172\u001b[0;31m         \u001b[0mPackageWriter\u001b[0m\u001b[0;34m.\u001b[0m\u001b[0mwrite\u001b[0m\u001b[0;34m(\u001b[0m\u001b[0mpkg_file\u001b[0m\u001b[0;34m,\u001b[0m \u001b[0mself\u001b[0m\u001b[0;34m.\u001b[0m\u001b[0mrels\u001b[0m\u001b[0;34m,\u001b[0m \u001b[0mself\u001b[0m\u001b[0;34m.\u001b[0m\u001b[0mparts\u001b[0m\u001b[0;34m)\u001b[0m\u001b[0;34m\u001b[0m\u001b[0;34m\u001b[0m\u001b[0m\n\u001b[0m\u001b[1;32m    173\u001b[0m \u001b[0;34m\u001b[0m\u001b[0m\n\u001b[1;32m    174\u001b[0m     \u001b[0;34m@\u001b[0m\u001b[0mproperty\u001b[0m\u001b[0;34m\u001b[0m\u001b[0;34m\u001b[0m\u001b[0m\n",
      "\u001b[0;32m~/anaconda3/lib/python3.8/site-packages/docx/opc/pkgwriter.py\u001b[0m in \u001b[0;36mwrite\u001b[0;34m(pkg_file, pkg_rels, parts)\u001b[0m\n\u001b[1;32m     30\u001b[0m         \u001b[0mcontent\u001b[0m \u001b[0mtypes\u001b[0m \u001b[0mof\u001b[0m \u001b[0mthe\u001b[0m \u001b[0mparts\u001b[0m\u001b[0;34m.\u001b[0m\u001b[0;34m\u001b[0m\u001b[0;34m\u001b[0m\u001b[0m\n\u001b[1;32m     31\u001b[0m         \"\"\"\n\u001b[0;32m---> 32\u001b[0;31m         \u001b[0mphys_writer\u001b[0m \u001b[0;34m=\u001b[0m \u001b[0mPhysPkgWriter\u001b[0m\u001b[0;34m(\u001b[0m\u001b[0mpkg_file\u001b[0m\u001b[0;34m)\u001b[0m\u001b[0;34m\u001b[0m\u001b[0;34m\u001b[0m\u001b[0m\n\u001b[0m\u001b[1;32m     33\u001b[0m         \u001b[0mPackageWriter\u001b[0m\u001b[0;34m.\u001b[0m\u001b[0m_write_content_types_stream\u001b[0m\u001b[0;34m(\u001b[0m\u001b[0mphys_writer\u001b[0m\u001b[0;34m,\u001b[0m \u001b[0mparts\u001b[0m\u001b[0;34m)\u001b[0m\u001b[0;34m\u001b[0m\u001b[0;34m\u001b[0m\u001b[0m\n\u001b[1;32m     34\u001b[0m         \u001b[0mPackageWriter\u001b[0m\u001b[0;34m.\u001b[0m\u001b[0m_write_pkg_rels\u001b[0m\u001b[0;34m(\u001b[0m\u001b[0mphys_writer\u001b[0m\u001b[0;34m,\u001b[0m \u001b[0mpkg_rels\u001b[0m\u001b[0;34m)\u001b[0m\u001b[0;34m\u001b[0m\u001b[0;34m\u001b[0m\u001b[0m\n",
      "\u001b[0;32m~/anaconda3/lib/python3.8/site-packages/docx/opc/phys_pkg.py\u001b[0m in \u001b[0;36m__init__\u001b[0;34m(self, pkg_file)\u001b[0m\n\u001b[1;32m    139\u001b[0m     \u001b[0;32mdef\u001b[0m \u001b[0m__init__\u001b[0m\u001b[0;34m(\u001b[0m\u001b[0mself\u001b[0m\u001b[0;34m,\u001b[0m \u001b[0mpkg_file\u001b[0m\u001b[0;34m)\u001b[0m\u001b[0;34m:\u001b[0m\u001b[0;34m\u001b[0m\u001b[0;34m\u001b[0m\u001b[0m\n\u001b[1;32m    140\u001b[0m         \u001b[0msuper\u001b[0m\u001b[0;34m(\u001b[0m\u001b[0m_ZipPkgWriter\u001b[0m\u001b[0;34m,\u001b[0m \u001b[0mself\u001b[0m\u001b[0;34m)\u001b[0m\u001b[0;34m.\u001b[0m\u001b[0m__init__\u001b[0m\u001b[0;34m(\u001b[0m\u001b[0;34m)\u001b[0m\u001b[0;34m\u001b[0m\u001b[0;34m\u001b[0m\u001b[0m\n\u001b[0;32m--> 141\u001b[0;31m         \u001b[0mself\u001b[0m\u001b[0;34m.\u001b[0m\u001b[0m_zipf\u001b[0m \u001b[0;34m=\u001b[0m \u001b[0mZipFile\u001b[0m\u001b[0;34m(\u001b[0m\u001b[0mpkg_file\u001b[0m\u001b[0;34m,\u001b[0m \u001b[0;34m'w'\u001b[0m\u001b[0;34m,\u001b[0m \u001b[0mcompression\u001b[0m\u001b[0;34m=\u001b[0m\u001b[0mZIP_DEFLATED\u001b[0m\u001b[0;34m)\u001b[0m\u001b[0;34m\u001b[0m\u001b[0;34m\u001b[0m\u001b[0m\n\u001b[0m\u001b[1;32m    142\u001b[0m \u001b[0;34m\u001b[0m\u001b[0m\n\u001b[1;32m    143\u001b[0m     \u001b[0;32mdef\u001b[0m \u001b[0mclose\u001b[0m\u001b[0;34m(\u001b[0m\u001b[0mself\u001b[0m\u001b[0;34m)\u001b[0m\u001b[0;34m:\u001b[0m\u001b[0;34m\u001b[0m\u001b[0;34m\u001b[0m\u001b[0m\n",
      "\u001b[0;32m~/anaconda3/lib/python3.8/zipfile.py\u001b[0m in \u001b[0;36m__init__\u001b[0;34m(self, file, mode, compression, allowZip64, compresslevel, strict_timestamps)\u001b[0m\n\u001b[1;32m   1249\u001b[0m             \u001b[0;32mwhile\u001b[0m \u001b[0;32mTrue\u001b[0m\u001b[0;34m:\u001b[0m\u001b[0;34m\u001b[0m\u001b[0;34m\u001b[0m\u001b[0m\n\u001b[1;32m   1250\u001b[0m                 \u001b[0;32mtry\u001b[0m\u001b[0;34m:\u001b[0m\u001b[0;34m\u001b[0m\u001b[0;34m\u001b[0m\u001b[0m\n\u001b[0;32m-> 1251\u001b[0;31m                     \u001b[0mself\u001b[0m\u001b[0;34m.\u001b[0m\u001b[0mfp\u001b[0m \u001b[0;34m=\u001b[0m \u001b[0mio\u001b[0m\u001b[0;34m.\u001b[0m\u001b[0mopen\u001b[0m\u001b[0;34m(\u001b[0m\u001b[0mfile\u001b[0m\u001b[0;34m,\u001b[0m \u001b[0mfilemode\u001b[0m\u001b[0;34m)\u001b[0m\u001b[0;34m\u001b[0m\u001b[0;34m\u001b[0m\u001b[0m\n\u001b[0m\u001b[1;32m   1252\u001b[0m                 \u001b[0;32mexcept\u001b[0m \u001b[0mOSError\u001b[0m\u001b[0;34m:\u001b[0m\u001b[0;34m\u001b[0m\u001b[0;34m\u001b[0m\u001b[0m\n\u001b[1;32m   1253\u001b[0m                     \u001b[0;32mif\u001b[0m \u001b[0mfilemode\u001b[0m \u001b[0;32min\u001b[0m \u001b[0mmodeDict\u001b[0m\u001b[0;34m:\u001b[0m\u001b[0;34m\u001b[0m\u001b[0;34m\u001b[0m\u001b[0m\n",
      "\u001b[0;31mPermissionError\u001b[0m: [Errno 13] Permission denied: 'static/data/16/отчет.docx'"
     ]
    }
   ],
   "source": [
    "make_word_doc(16, 'sd','ds')"
   ]
  },
  {
   "cell_type": "code",
   "execution_count": 31,
   "metadata": {},
   "outputs": [
    {
     "data": {
      "text/plain": [
       "dict_keys(['id', 'path', 'photo', 'Общие сведения', 'Конфигурация здания', 'Это объект культурного наследия?', 'Несущие элементы'])"
      ]
     },
     "execution_count": 31,
     "metadata": {},
     "output_type": "execute_result"
    }
   ],
   "source": [
    "data.keys()"
   ]
  },
  {
   "cell_type": "code",
   "execution_count": 47,
   "metadata": {},
   "outputs": [
    {
     "ename": "TypeError",
     "evalue": "string indices must be integers",
     "output_type": "error",
     "traceback": [
      "\u001b[0;31m---------------------------------------------------------------------------\u001b[0m",
      "\u001b[0;31mTypeError\u001b[0m                                 Traceback (most recent call last)",
      "\u001b[0;32m<ipython-input-47-ebc85a053f90>\u001b[0m in \u001b[0;36m<module>\u001b[0;34m\u001b[0m\n\u001b[1;32m      2\u001b[0m \u001b[0mlst\u001b[0m \u001b[0;34m=\u001b[0m \u001b[0;34m[\u001b[0m\u001b[0;34m]\u001b[0m\u001b[0;34m\u001b[0m\u001b[0;34m\u001b[0m\u001b[0m\n\u001b[1;32m      3\u001b[0m \u001b[0;32mfor\u001b[0m \u001b[0min_key\u001b[0m \u001b[0;32min\u001b[0m \u001b[0mdata\u001b[0m\u001b[0;34m[\u001b[0m\u001b[0mkey\u001b[0m\u001b[0;34m]\u001b[0m\u001b[0;34m:\u001b[0m\u001b[0;34m\u001b[0m\u001b[0;34m\u001b[0m\u001b[0m\n\u001b[0;32m----> 4\u001b[0;31m     lst.append([in_key, str(data[key][in_key]).replace(\"'\", '').\n\u001b[0m\u001b[1;32m      5\u001b[0m                 replace('{', '\\n').replace('}, ', '\\n').replace('}', '').replace('Другое: ', '')])\n",
      "\u001b[0;31mTypeError\u001b[0m: string indices must be integers"
     ]
    }
   ],
   "source": [
    "key = 'Это объект культурного наследия?'\n",
    "lst = []\n",
    "for in_key in data[key]:\n",
    "    if type(in_key) == str:\n",
    "        lst.append([key, str(data[key][in_key]).replace(\"'\", '').\n",
    "                replace('{', '\\n').replace('}, ', '\\n').replace('}', '').replace('Другое: ', '')])\n",
    "        \n",
    "    lst.append([in_key, str(data[key][in_key]).replace(\"'\", '').\n",
    "                replace('{', '\\n').replace('}, ', '\\n').replace('}', '').replace('Другое: ', '')])\n"
   ]
  },
  {
   "cell_type": "code",
   "execution_count": 48,
   "metadata": {},
   "outputs": [
    {
     "data": {
      "text/plain": [
       "{'id': '16',\n",
       " 'path': '/Несущие элементы/',\n",
       " 'photo': {'Общие сведения': {'Есть ли чердак?. Да. Над всей площадью здания?. Да': ['d0b4200a-3ec6-4877-a35c-d598fbcdf2e4.jpg']}},\n",
       " 'Общие сведения': {'Класс строения по надежности': '1',\n",
       "  'Назначение объекта': {'Жил. здание со встр. нежилыми помещ.': {'Нет': 'Не знаю'}},\n",
       "  'Серия-модификация здания': {'Индивидуальный проект': 'Да'},\n",
       "  'Степень долговечности': '89',\n",
       "  'Степень огнестойкости': '67',\n",
       "  'Год постройки': '1992',\n",
       "  'Есть ли чердак?': {'Да': {'Над всей площадью здания?': {'Да': 'photo'}}},\n",
       "  'Класс функц. пожар. опасности': '89',\n",
       "  'Есть ли подвал?': 'Нет',\n",
       "  'Кол-во эт. с учет. подвала и чердака': '11',\n",
       "  'Высота здания': '89 м',\n",
       "  'Конструктивный тип здания': 'Бескаркасный',\n",
       "  'Площадь': {'Жилая': '40', 'Общая': '89', 'Нежилая': '900'},\n",
       "  'Количество квартир': '89',\n",
       "  'Количество секций': '67',\n",
       "  'Год последнего кап. ремонта': '1992',\n",
       "  'Строительный объем': '87',\n",
       "  'Наличие арендаторов': 'Нет'},\n",
       " 'Конфигурация здания': {'Простая геометрическая форма': '12 на 67'},\n",
       " 'Это объект культурного наследия?': 'Нет',\n",
       " 'Несущие элементы': {'Капитальные стены': {'Материал': 'Камень',\n",
       "   'Толщина кладки наружных стен': {'Без учета отделки': '897',\n",
       "    'С учетом отделки': '765'},\n",
       "   'Система перевязки': 'Однорядная',\n",
       "   'Наличие карнизов': 'Нет'},\n",
       "  'Фундаменты': {'Ленточные': {'Из чего выполнены?': 'Бутовая кладка'}},\n",
       "  'Перекрытия': {'Бетонные': {'Опирание': 'На наружные и внутренние стены'},\n",
       "   'Деревянные': {'Опирание': {'Свой вариант': 'Жощ'}}},\n",
       "  'Покрытие': 'Деревянная стропильная система',\n",
       "  'Перемычки': 'Деревянные'}}"
      ]
     },
     "execution_count": 48,
     "metadata": {},
     "output_type": "execute_result"
    }
   ],
   "source": [
    "data"
   ]
  }
 ],
 "metadata": {
  "kernelspec": {
   "display_name": "Python 3",
   "language": "python",
   "name": "python3"
  },
  "language_info": {
   "codemirror_mode": {
    "name": "ipython",
    "version": 3
   },
   "file_extension": ".py",
   "mimetype": "text/x-python",
   "name": "python",
   "nbconvert_exporter": "python",
   "pygments_lexer": "ipython3",
   "version": "3.8.5"
  }
 },
 "nbformat": 4,
 "nbformat_minor": 4
}
