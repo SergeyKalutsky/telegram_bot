{
 "cells": [
  {
   "cell_type": "code",
   "execution_count": 1,
   "metadata": {},
   "outputs": [
    {
     "name": "stdout",
     "output_type": "stream",
     "text": [
      "/home/user/personal/lib/telegram_bot/web/app/app\n"
     ]
    }
   ],
   "source": [
    "cd web/app/app"
   ]
  },
  {
   "cell_type": "code",
   "execution_count": 19,
   "metadata": {},
   "outputs": [],
   "source": [
    "data = {'id': '16', 'path': '/', 'photo': {'Общие сведения': {'Есть ли чердак?. Да. Над всей площадью здания?. Да': ['d0b4200a-3ec6-4877-a35c-d598fbcdf2e4.jpg']}}, 'Общие сведения': {'Класс строения по надежности': '1', 'Назначение объекта': {'Жил. здание со встр. нежилыми помещ.': {'Нет': 'Не знаю'}}, 'Серия-модификация здания': {'Индивидуальный проект': 'Да'}, 'Степень долговечности': '89', 'Степень огнестойкости': '67', 'Год постройки': '1992', 'Есть ли чердак?': {'Да': {'Над всей площадью здания?': {'Да': 'photo'}}}, 'Класс функц. пожар. опасности': '89', 'Есть ли подвал?': 'Нет', 'Кол-во эт. с учет. подвала и чердака': '11', 'Высота здания': '89 м', 'Конструктивный тип здания': 'Бескаркасный', 'Площадь': {'Жилая': '40', 'Общая': '89', 'Нежилая': '900'}, 'Количество квартир': '89', 'Количество секций': '67', 'Год последнего кап. ремонта': '1992', 'Строительный объем': '87', 'Наличие арендаторов': 'Нет'}}\n",
    "k = get_keyboard(['Общие сведения',\n",
    "                                  'Конфигурация здания',\n",
    "                                  'Это объект культурного наследия?',\n",
    "                                  'Несущие элементы',\n",
    "                                  'Благоустройство',\n",
    "                                  'Состояние здания',\n",
    "                                  'Фасады',\n",
    "                                  'Крыша',\n",
    "                                  'МОПы',\n",
    "                                  'Подвал',\n",
    "                                  'Квартиры'])"
   ]
  },
  {
   "cell_type": "code",
   "execution_count": 22,
   "metadata": {},
   "outputs": [],
   "source": [
    "from aiogram.types.inline_keyboard import InlineKeyboardButton as InlineKeyboardButton\n",
    "from aiogram.types.inline_keyboard import InlineKeyboardMarkup as InlineKeyboardMarkup\n",
    "\n",
    "\n",
    "def get_keyboard(menu_items):\n",
    "    keyboard = InlineKeyboardMarkup()\n",
    "    for menu_item in menu_items:\n",
    "        btn = InlineKeyboardButton(menu_item, callback_data=menu_item)\n",
    "        keyboard.add(btn)\n",
    "    return keyboard\n",
    "\n",
    "\n",
    "def battn_vals(k):\n",
    "    lst = []\n",
    "    for val in k.values['inline_keyboard']:\n",
    "        lst.append(val[0].text)\n",
    "    return lst\n",
    "\n",
    "def get_empty_keys(buttons, d):\n",
    "    not_filled_buttons = []\n",
    "    for button in buttons:\n",
    "        if button not in d.keys():\n",
    "            not_filled_buttons.append(button)\n",
    "    return not_filled_buttons\n",
    "    \n",
    "def not_filled(path, keyboard, data):\n",
    "    d = data.__dict__['_copy'].copy()\n",
    "    buttons = battn_vals(keyboard)\n",
    "    keys = path[1:-1].split('/')\n",
    "    if len(keys) == 1:\n",
    "        return get_empty_keys(buttons, d)\n",
    "        \n",
    "    for key in keys:\n",
    "        if key not in d:\n",
    "            return buttons\n",
    "        d = d[key]\n",
    "\n",
    "    return get_empty_keys(buttons, d)"
   ]
  },
  {
   "cell_type": "code",
   "execution_count": 23,
   "metadata": {},
   "outputs": [
    {
     "name": "stdout",
     "output_type": "stream",
     "text": [
      "['']\n"
     ]
    },
    {
     "data": {
      "text/plain": [
       "['Общие сведения',\n",
       " 'Конфигурация здания',\n",
       " 'Это объект культурного наследия?',\n",
       " 'Несущие элементы',\n",
       " 'Благоустройство',\n",
       " 'Состояние здания',\n",
       " 'Фасады',\n",
       " 'Крыша',\n",
       " 'МОПы',\n",
       " 'Подвал',\n",
       " 'Квартиры']"
      ]
     },
     "execution_count": 23,
     "metadata": {},
     "output_type": "execute_result"
    }
   ],
   "source": [
    "not_filled(data['path'], k, data)"
   ]
  },
  {
   "cell_type": "code",
   "execution_count": 18,
   "metadata": {},
   "outputs": [
    {
     "data": {
      "text/plain": [
       "{'id': '16',\n",
       " 'path': '/Общие сведения/',\n",
       " 'photo': {'Общие сведения': {'Есть ли чердак?. Да. Над всей площадью здания?. Да': ['d0b4200a-3ec6-4877-a35c-d598fbcdf2e4.jpg']}},\n",
       " 'Общие сведения': {'Класс строения по надежности': '1',\n",
       "  'Назначение объекта': {'Жил. здание со встр. нежилыми помещ.': {'Нет': 'Не знаю'}},\n",
       "  'Серия-модификация здания': {'Индивидуальный проект': 'Да'},\n",
       "  'Степень долговечности': '89',\n",
       "  'Степень огнестойкости': '67',\n",
       "  'Год постройки': '1992',\n",
       "  'Есть ли чердак?': {'Да': {'Над всей площадью здания?': {'Да': 'photo'}}},\n",
       "  'Класс функц. пожар. опасности': '89',\n",
       "  'Есть ли подвал?': 'Нет',\n",
       "  'Кол-во эт. с учет. подвала и чердака': '11',\n",
       "  'Высота здания': '89 м',\n",
       "  'Конструктивный тип здания': 'Бескаркасный',\n",
       "  'Площадь': {'Жилая': '40', 'Общая': '89', 'Нежилая': '900'},\n",
       "  'Количество квартир': '89',\n",
       "  'Количество секций': '67',\n",
       "  'Год последнего кап. ремонта': '1992',\n",
       "  'Строительный объем': '87',\n",
       "  'Наличие арендаторов': 'Нет'}}"
      ]
     },
     "execution_count": 18,
     "metadata": {},
     "output_type": "execute_result"
    }
   ],
   "source": [
    "data"
   ]
  }
 ],
 "metadata": {
  "kernelspec": {
   "display_name": "Python 3",
   "language": "python",
   "name": "python3"
  },
  "language_info": {
   "codemirror_mode": {
    "name": "ipython",
    "version": 3
   },
   "file_extension": ".py",
   "mimetype": "text/x-python",
   "name": "python",
   "nbconvert_exporter": "python",
   "pygments_lexer": "ipython3",
   "version": "3.8.5"
  }
 },
 "nbformat": 4,
 "nbformat_minor": 4
}
