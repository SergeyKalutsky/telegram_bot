{
 "cells": [
  {
   "cell_type": "code",
   "execution_count": null,
   "metadata": {},
   "outputs": [],
   "source": [
    "from docxtpl import DocxTemplate\n",
    "from docxtpl import InlineImage\n",
    "from docx.shared import Inches\n",
    "import jinja2\n",
    "\n",
    "doc = DocxTemplate(\"1_Смоленский б-р, дом 17, стр. 5 ТЗК _ФИНАЛ_ДЛЯ ТЗК.docx\")\n",
    "# images = {'main1.jpg': InlineImage(doc,'images/main1.jpg', width=Inches(4.73))}\n",
    "\n",
    "context = {\n",
    "    'customer': 'Фонд капитального ремонта многоквартирных домов города Москвы',\n",
    "    'adress': 'г. Москва, ЦАО, Смоленский б-р, дом 17, стр. 5',\n",
    "    'main_image': images['main1.jpg'],\n",
    "\n",
    "}\n",
    "\n",
    "jinja_env = jinja2.Environment(autoescape=True)\n",
    "doc.render(context, jinja_env)\n",
    "doc.save(\"result-final.docx\")"
   ]
  },
  {
   "cell_type": "code",
   "execution_count": 53,
   "metadata": {},
   "outputs": [],
   "source": [
    "import json\n",
    "with open('test.json', 'r') as f:\n",
    "    data = json.load(f)"
   ]
  },
  {
   "cell_type": "code",
   "execution_count": 56,
   "metadata": {},
   "outputs": [
    {
     "data": {
      "text/plain": [
       "{'path': '/Общие сведения/',\n",
       " '/Общие сведения/Класс строения по надежности/': '2',\n",
       " '/Общие сведения/Назначение объекта/Жил. здание со встр. нежилыми помещ./': 'Да',\n",
       " '/Общие сведения/Серия-модификация здания/Индивидуальный проект/': 'Нет',\n",
       " '/Общие сведения/Степень долговечности/': '34',\n",
       " '/Общие сведения/Степень огнестойкости/': 'Гста 322',\n",
       " '/Общие сведения/Год постройки/': '1992',\n",
       " '/Общие сведения/Класс функц. пожар. опасности/': '67',\n",
       " '/Общие сведения/Есть ли подвал?/Да/Под всей площадью здания?/Да/': ['052e4c1d-fe70-42d7-abb1-e57380211faa.jpg'],\n",
       " '/Общие сведения/Есть ли чердак?/Да/Над всей площадью здания?/Нет/': ['17e39ae3-e436-40a1-aca6-8d4254419970.jpg'],\n",
       " '/Общие сведения/Кол-во эт. с учет. подвала и чердака/': '10',\n",
       " '/Общие сведения/Высота здания/': '4м',\n",
       " '/Общие сведения/Конструктивный тип здания/': 'Каркасный',\n",
       " '/Общие сведения/Площадь/Жилая/': '1000',\n",
       " '/Общие сведения/Площадь/Общая/': '2000',\n",
       " '/Общие сведения/Площадь/Нежилая/рассчитано 1000 м^2 правильно?/': 'Да',\n",
       " '/Общие сведения/Количество квартир/': '34',\n",
       " '/Общие сведения/Количество секций/': '32',\n",
       " '/Общие сведения/Год последнего кап. ремонта/': 'Нет данных',\n",
       " '/Общие сведения/Строительный объем/': '23',\n",
       " '/Общие сведения/Наличие арендаторов/': 'Да'}"
      ]
     },
     "execution_count": 56,
     "metadata": {},
     "output_type": "execute_result"
    }
   ],
   "source": [
    "data"
   ]
  },
  {
   "cell_type": "code",
   "execution_count": 60,
   "metadata": {},
   "outputs": [],
   "source": [
    "vals = '/Общие сведения/Степень долговечности/'[1:-1].split('/')"
   ]
  },
  {
   "cell_type": "code",
   "execution_count": 59,
   "metadata": {},
   "outputs": [],
   "source": [
    "d = {}"
   ]
  },
  {
   "cell_type": "code",
   "execution_count": 84,
   "metadata": {},
   "outputs": [],
   "source": [
    "d = {}\n",
    "keys = '/Общие сведения/Степень долговечности/'[1:-1].split('/')\n",
    "val = '2'\n",
    "for i, key in enumerate(keys):\n",
    "    while key in d:\n",
    "        d = d[key]\n",
    "    d[key] = {keys[i+1]} if i < len(keys)-1 else val \n",
    "        \n"
   ]
  },
  {
   "cell_type": "code",
   "execution_count": 85,
   "metadata": {},
   "outputs": [
    {
     "data": {
      "text/plain": [
       "{'Общие сведения': {'Степень долговечности'}, 'Степень долговечности': '2'}"
      ]
     },
     "execution_count": 85,
     "metadata": {},
     "output_type": "execute_result"
    }
   ],
   "source": [
    "'/Общие сведения/Площадь/Жилая/'\n",
    "'/Общие сведения/Площадь/Общая/'"
   ]
  },
  {
   "cell_type": "code",
   "execution_count": 87,
   "metadata": {},
   "outputs": [
    {
     "data": {
      "text/plain": [
       "['Общие сведения', 'Площадь', 'Жилая']"
      ]
     },
     "execution_count": 87,
     "metadata": {},
     "output_type": "execute_result"
    }
   ],
   "source": [
    "'/Общие сведения/Площадь/Жилая/'[1:-1].split('/')"
   ]
  },
  {
   "cell_type": "code",
   "execution_count": 88,
   "metadata": {},
   "outputs": [],
   "source": [
    "d = {'Общие сведения':{\n",
    "     'Площадь': {\n",
    "         'Жилая':23\n",
    "     }\n",
    "}}"
   ]
  },
  {
   "cell_type": "code",
   "execution_count": 106,
   "metadata": {},
   "outputs": [],
   "source": [
    "d = {}\n",
    "start = d\n",
    "keys = '/Общие сведения/Площадь/Жилая/'[1:-1].split('/')\n",
    "for i in range(len(keys)-1):\n",
    "    if keys[i] not in d:\n",
    "        d[keys[i]] = {keys[i+1]: ''}\n",
    "    d = d[keys[i]]\n",
    "    \n",
    "d[keys[-1]] = val"
   ]
  },
  {
   "cell_type": "code",
   "execution_count": 107,
   "metadata": {},
   "outputs": [
    {
     "data": {
      "text/plain": [
       "{'Общие сведения': {'Площадь': {'Жилая': ''}}}"
      ]
     },
     "execution_count": 107,
     "metadata": {},
     "output_type": "execute_result"
    }
   ],
   "source": []
  },
  {
   "cell_type": "code",
   "execution_count": 101,
   "metadata": {},
   "outputs": [
    {
     "data": {
      "text/plain": [
       "{'x': 2}"
      ]
     },
     "execution_count": 101,
     "metadata": {},
     "output_type": "execute_result"
    }
   ],
   "source": [
    "d"
   ]
  },
  {
   "cell_type": "code",
   "execution_count": null,
   "metadata": {},
   "outputs": [],
   "source": []
  }
 ],
 "metadata": {
  "kernelspec": {
   "display_name": "Python 3",
   "language": "python",
   "name": "python3"
  },
  "language_info": {
   "codemirror_mode": {
    "name": "ipython",
    "version": 3
   },
   "file_extension": ".py",
   "mimetype": "text/x-python",
   "name": "python",
   "nbconvert_exporter": "python",
   "pygments_lexer": "ipython3",
   "version": "3.8.5"
  }
 },
 "nbformat": 4,
 "nbformat_minor": 4
}
