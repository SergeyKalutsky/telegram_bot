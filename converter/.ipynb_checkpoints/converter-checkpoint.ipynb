{
 "cells": [
  {
   "cell_type": "code",
   "execution_count": null,
   "metadata": {},
   "outputs": [],
   "source": [
    "from docxtpl import DocxTemplate\n",
    "from docxtpl import InlineImage\n",
    "from docx.shared import Inches\n",
    "import jinja2\n",
    "\n",
    "doc = DocxTemplate(\"1_Смоленский б-р, дом 17, стр. 5 ТЗК _ФИНАЛ_ДЛЯ ТЗК.docx\")\n",
    "# images = {'main1.jpg': InlineImage(doc,'images/main1.jpg', width=Inches(4.73))}\n",
    "\n",
    "context = {\n",
    "    'customer': 'Фонд капитального ремонта многоквартирных домов города Москвы',\n",
    "    'adress': 'г. Москва, ЦАО, Смоленский б-р, дом 17, стр. 5',\n",
    "    'main_image': images['main1.jpg'],\n",
    "\n",
    "}\n",
    "\n",
    "jinja_env = jinja2.Environment(autoescape=True)\n",
    "doc.render(context, jinja_env)\n",
    "doc.save(\"result-final.docx\")"
   ]
  },
  {
   "cell_type": "code",
   "execution_count": 143,
   "metadata": {},
   "outputs": [
    {
     "name": "stdout",
     "output_type": "stream",
     "text": [
      "/home/user/personal/lib/telegram_bot/data\n"
     ]
    }
   ],
   "source": [
    "cd data"
   ]
  },
  {
   "cell_type": "code",
   "execution_count": 168,
   "metadata": {},
   "outputs": [],
   "source": [
    "import json\n",
    "with open('test.json', 'r') as f:\n",
    "    data = json.load(f)"
   ]
  },
  {
   "cell_type": "code",
   "execution_count": 179,
   "metadata": {},
   "outputs": [],
   "source": [
    "lst = []\n",
    "for key in data:\n",
    "    if key != 'path':\n",
    "        for in_key in data[key]:\n",
    "            lst.append([in_key, str(data[key][in_key]).replace(\"'\", '').\\\n",
    "                        replace('{', '').replace('}', '')])\n",
    "    "
   ]
  },
  {
   "cell_type": "code",
   "execution_count": 180,
   "metadata": {},
   "outputs": [
    {
     "data": {
      "text/plain": [
       "[['Фундаменты', 'Ленточные: Из чего выполнены?: Бутовая кладка'],\n",
       " ['Покрытие', 'Деревянная стропильная система'],\n",
       " ['Перекрытия', 'Деревянные: Опирание: На наружные и внутренние стены'],\n",
       " ['Перемычки', 'Стальные'],\n",
       " ['Подвал', 'Материал отделки'],\n",
       " ['Система стропил', 'Шаг стропил: 34'],\n",
       " ['Карниз', 'Величина свеса: 34, Материал отделки: Дерево'],\n",
       " ['Ограждение', 'Размеры: Высота: 65, Длина: 78'],\n",
       " ['Канализация', 'Диаметр стояка: 89'],\n",
       " ['Выветривание кладки', 'Наблюдается: Со стороны торцевых фасадов'],\n",
       " ['Состояние перемычек', 'Работоспособное'],\n",
       " ['Деформации', 'Не наблюдаются']]"
      ]
     },
     "execution_count": 180,
     "metadata": {},
     "output_type": "execute_result"
    }
   ],
   "source": [
    "lst"
   ]
  },
  {
   "cell_type": "code",
   "execution_count": 190,
   "metadata": {},
   "outputs": [],
   "source": [
    "import docx \n",
    "\n",
    "doc = docx.Document()\n",
    "\n",
    "table = doc.add_table(rows=2, cols=2)\n",
    "hdr_cells = table.rows[0].cells\n",
    "hdr_cells[0].text = 'Раздел'\n",
    "hdr_cells[1].text = 'Описание'\n",
    "\n",
    "for row in lst:\n",
    "    row_cells = table.add_row().cells\n",
    "    for i in range(len(row)):\n",
    "        row_cells[i].text = row[i]\n",
    "\n",
    "doc.add_page_break()\n",
    "doc.save(\"test.docx\")"
   ]
  },
  {
   "cell_type": "code",
   "execution_count": null,
   "metadata": {},
   "outputs": [],
   "source": []
  }
 ],
 "metadata": {
  "kernelspec": {
   "display_name": "Python 3",
   "language": "python",
   "name": "python3"
  },
  "language_info": {
   "codemirror_mode": {
    "name": "ipython",
    "version": 3
   },
   "file_extension": ".py",
   "mimetype": "text/x-python",
   "name": "python",
   "nbconvert_exporter": "python",
   "pygments_lexer": "ipython3",
   "version": "3.8.5"
  }
 },
 "nbformat": 4,
 "nbformat_minor": 4
}
