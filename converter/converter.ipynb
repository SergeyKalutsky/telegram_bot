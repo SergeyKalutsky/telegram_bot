{
 "cells": [
  {
   "cell_type": "code",
   "execution_count": null,
   "metadata": {},
   "outputs": [],
   "source": [
    "from docxtpl import DocxTemplate\n",
    "from docxtpl import InlineImage\n",
    "from docx.shared import Inches\n",
    "import jinja2\n",
    "\n",
    "doc = DocxTemplate(\"1_Смоленский б-р, дом 17, стр. 5 ТЗК _ФИНАЛ_ДЛЯ ТЗК.docx\")\n",
    "# images = {'main1.jpg': InlineImage(doc,'images/main1.jpg', width=Inches(4.73))}\n",
    "\n",
    "context = {\n",
    "    'customer': 'Фонд капитального ремонта многоквартирных домов города Москвы',\n",
    "    'adress': 'г. Москва, ЦАО, Смоленский б-р, дом 17, стр. 5',\n",
    "    'main_image': images['main1.jpg'],\n",
    "\n",
    "}\n",
    "\n",
    "jinja_env = jinja2.Environment(autoescape=True)\n",
    "doc.render(context, jinja_env)\n",
    "doc.save(\"result-final.docx\")"
   ]
  },
  {
   "cell_type": "code",
   "execution_count": 5,
   "metadata": {},
   "outputs": [],
   "source": [
    "import json\n",
    "with open('test.json', 'r') as f:\n",
    "    data = json.load(f)"
   ]
  },
  {
   "cell_type": "code",
   "execution_count": 11,
   "metadata": {},
   "outputs": [
    {
     "data": {
      "text/plain": [
       "'Н/а/д/ /в/с/е/й/ /п/л/о/щ/а/д/ь/ю/ /з/д/а/н/и/я/?'"
      ]
     },
     "execution_count": 11,
     "metadata": {},
     "output_type": "execute_result"
    }
   ],
   "source": [
    "'/'.join('/Общие сведения/Есть ли чердак?/Да/Над всей площадью здания?/'[:-1].split('/')[-1])"
   ]
  },
  {
   "cell_type": "code",
   "execution_count": null,
   "metadata": {},
   "outputs": [],
   "source": []
  }
 ],
 "metadata": {
  "kernelspec": {
   "display_name": "Python 3",
   "language": "python",
   "name": "python3"
  },
  "language_info": {
   "codemirror_mode": {
    "name": "ipython",
    "version": 3
   },
   "file_extension": ".py",
   "mimetype": "text/x-python",
   "name": "python",
   "nbconvert_exporter": "python",
   "pygments_lexer": "ipython3",
   "version": "3.8.5"
  }
 },
 "nbformat": 4,
 "nbformat_minor": 4
}
