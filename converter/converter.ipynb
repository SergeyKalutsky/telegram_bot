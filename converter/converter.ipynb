{
 "cells": [
  {
   "cell_type": "code",
   "execution_count": null,
   "metadata": {},
   "outputs": [],
   "source": [
    "from docxtpl import DocxTemplate\n",
    "from docxtpl import InlineImage\n",
    "from docx.shared import Inches\n",
    "import jinja2\n",
    "\n",
    "doc = DocxTemplate(\"1_Смоленский б-р, дом 17, стр. 5 ТЗК _ФИНАЛ_ДЛЯ ТЗК.docx\")\n",
    "# images = {'main1.jpg': InlineImage(doc,'images/main1.jpg', width=Inches(4.73))}\n",
    "\n",
    "context = {\n",
    "    'customer': 'Фонд капитального ремонта многоквартирных домов города Москвы',\n",
    "    'adress': 'г. Москва, ЦАО, Смоленский б-р, дом 17, стр. 5',\n",
    "    'main_image': images['main1.jpg'],\n",
    "\n",
    "}\n",
    "\n",
    "jinja_env = jinja2.Environment(autoescape=True)\n",
    "doc.render(context, jinja_env)\n",
    "doc.save(\"result-final.docx\")"
   ]
  },
  {
   "cell_type": "code",
   "execution_count": 5,
   "metadata": {},
   "outputs": [],
   "source": [
    "import json\n",
    "with open('test.json', 'r') as f:\n",
    "    data = json.load(f)"
   ]
  },
  {
   "cell_type": "code",
   "execution_count": 6,
   "metadata": {},
   "outputs": [
    {
     "data": {
      "text/plain": [
       "{'path': '/',\n",
       " '/Общие сведения/Класс строения по надежности/': '3',\n",
       " '/Общие сведения/Назначение объекта/Жил. здание со встр. нежилыми помещ./': 'Да',\n",
       " '/Общие сведения/Серия-модификация здания/Индивидуальный проект/': 'Да',\n",
       " '/Общие сведения/Степень долговечности/': '30',\n",
       " '/Общие сведения/Степень огнестойкости/': '34',\n",
       " '/Общие сведения/Год постройки/': '1992',\n",
       " '/Общие сведения/Класс функц. пожар. опасности/': '45',\n",
       " '/Общие сведения/Кол-во эт. с учет. подвала и чердака/': '4',\n",
       " '/Общие сведения/Высота здания/': '50 м',\n",
       " '/Общие сведения/Конструктивный тип здания/': 'Каркасный',\n",
       " '/Общие сведения/Площадь/': 'Жилая',\n",
       " '/Общие сведения/Количество квартир/': '57',\n",
       " '/Общие сведения/Количество секций/': '78',\n",
       " '/Общие сведения/Год последнего кап. ремонта/': 'Нет данных',\n",
       " '/Общие сведения/Строительный объем/': '50',\n",
       " '/Общие сведения/Наличие арендаторов/': 'Да'}"
      ]
     },
     "execution_count": 6,
     "metadata": {},
     "output_type": "execute_result"
    }
   ],
   "source": [
    "data"
   ]
  },
  {
   "cell_type": "code",
   "execution_count": null,
   "metadata": {},
   "outputs": [],
   "source": [
    "/Общие сведения/Площадь/Жилая"
   ]
  }
 ],
 "metadata": {
  "kernelspec": {
   "display_name": "Python 3",
   "language": "python",
   "name": "python3"
  },
  "language_info": {
   "codemirror_mode": {
    "name": "ipython",
    "version": 3
   },
   "file_extension": ".py",
   "mimetype": "text/x-python",
   "name": "python",
   "nbconvert_exporter": "python",
   "pygments_lexer": "ipython3",
   "version": "3.8.5"
  }
 },
 "nbformat": 4,
 "nbformat_minor": 4
}
