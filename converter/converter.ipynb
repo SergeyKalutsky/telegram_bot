{
 "cells": [
  {
   "cell_type": "code",
   "execution_count": null,
   "metadata": {},
   "outputs": [],
   "source": [
    "from docxtpl import DocxTemplate\n",
    "from docxtpl import InlineImage\n",
    "from docx.shared import Inches\n",
    "import jinja2\n",
    "\n",
    "doc = DocxTemplate(\"1_Смоленский б-р, дом 17, стр. 5 ТЗК _ФИНАЛ_ДЛЯ ТЗК.docx\")\n",
    "# images = {'main1.jpg': InlineImage(doc,'images/main1.jpg', width=Inches(4.73))}\n",
    "\n",
    "context = {\n",
    "    'customer': 'Фонд капитального ремонта многоквартирных домов города Москвы',\n",
    "    'adress': 'г. Москва, ЦАО, Смоленский б-р, дом 17, стр. 5',\n",
    "    'main_image': images['main1.jpg'],\n",
    "\n",
    "}\n",
    "\n",
    "jinja_env = jinja2.Environment(autoescape=True)\n",
    "doc.render(context, jinja_env)\n",
    "doc.save(\"result-final.docx\")"
   ]
  },
  {
   "cell_type": "code",
   "execution_count": 143,
   "metadata": {},
   "outputs": [
    {
     "name": "stdout",
     "output_type": "stream",
     "text": [
      "/home/user/personal/lib/telegram_bot/data\n"
     ]
    }
   ],
   "source": [
    "cd data"
   ]
  },
  {
   "cell_type": "code",
   "execution_count": 145,
   "metadata": {},
   "outputs": [],
   "source": [
    "import json\n",
    "with open('test.json', 'r') as f:\n",
    "    data = json.load(f)"
   ]
  },
  {
   "cell_type": "code",
   "execution_count": 146,
   "metadata": {},
   "outputs": [
    {
     "data": {
      "text/plain": [
       "{'path': '/Несущие элементы/Капитальные стены/Система перевязки/',\n",
       " 'Общие сведения': {'Класс строения по надежности': '23',\n",
       "  'Назначение объекта': {'Жил. здание со встр. нежилыми помещ.': 'Да'},\n",
       "  'Серия-модификация здания': {'Индивидуальный проект': 'Да'},\n",
       "  'Степень долговечности': '23',\n",
       "  'Степень огнестойкости': '3',\n",
       "  'Год постройки': '1992',\n",
       "  'Класс функц. пожар. опасности': 'Гост 222',\n",
       "  'Есть ли чердак?': 'Нет',\n",
       "  'Кол-во эт. с учет. подвала и чердака': '23',\n",
       "  'Высота здания': '40 м',\n",
       "  'Конструктивный тип здания': 'Каркасный',\n",
       "  'Площадь': {'Жилая': '230', 'Общая': '670'},\n",
       "  'Количество квартир': '54',\n",
       "  'Количество секций': '56',\n",
       "  'Год последнего кап. ремонта': '67',\n",
       "  'Строительный объем': '899',\n",
       "  'Наличие арендаторов': 'Да'},\n",
       " '/Общие сведения/Есть ли подвал?/Да/Под всей площадью здания?/Да/': ['54910d18-cca0-48a6-b8d5-eeb3a79e44d7.jpg'],\n",
       " 'Конфигурация здания': {'Простая геометрическая форма': '23×34×56'},\n",
       " 'Это объект культурного наследия?': 'Нет',\n",
       " 'Несущие элементы': {'Капитальные стены': 'Камень'}}"
      ]
     },
     "execution_count": 146,
     "metadata": {},
     "output_type": "execute_result"
    }
   ],
   "source": [
    "data"
   ]
  },
  {
   "cell_type": "code",
   "execution_count": null,
   "metadata": {},
   "outputs": [],
   "source": []
  }
 ],
 "metadata": {
  "kernelspec": {
   "display_name": "Python 3",
   "language": "python",
   "name": "python3"
  },
  "language_info": {
   "codemirror_mode": {
    "name": "ipython",
    "version": 3
   },
   "file_extension": ".py",
   "mimetype": "text/x-python",
   "name": "python",
   "nbconvert_exporter": "python",
   "pygments_lexer": "ipython3",
   "version": "3.8.5"
  }
 },
 "nbformat": 4,
 "nbformat_minor": 4
}
