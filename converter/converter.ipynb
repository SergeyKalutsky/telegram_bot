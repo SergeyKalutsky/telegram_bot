{
 "cells": [
  {
   "cell_type": "code",
   "execution_count": null,
   "metadata": {},
   "outputs": [],
   "source": [
    "from docxtpl import DocxTemplate\n",
    "from docxtpl import InlineImage\n",
    "from docx.shared import Inches\n",
    "import jinja2\n",
    "\n",
    "doc = DocxTemplate(\"1_Смоленский б-р, дом 17, стр. 5 ТЗК _ФИНАЛ_ДЛЯ ТЗК.docx\")\n",
    "# images = {'main1.jpg': InlineImage(doc,'images/main1.jpg', width=Inches(4.73))}\n",
    "\n",
    "context = {\n",
    "    'customer': 'Фонд капитального ремонта многоквартирных домов города Москвы',\n",
    "    'adress': 'г. Москва, ЦАО, Смоленский б-р, дом 17, стр. 5',\n",
    "    'main_image': images['main1.jpg'],\n",
    "\n",
    "}\n",
    "\n",
    "jinja_env = jinja2.Environment(autoescape=True)\n",
    "doc.render(context, jinja_env)\n",
    "doc.save(\"result-final.docx\")"
   ]
  },
  {
   "cell_type": "code",
   "execution_count": 5,
   "metadata": {},
   "outputs": [],
   "source": [
    "import json\n",
    "with open('test.json', 'r') as f:\n",
    "    data = json.load(f)"
   ]
  },
  {
   "cell_type": "code",
   "execution_count": 33,
   "metadata": {},
   "outputs": [
    {
     "data": {
      "text/plain": [
       "'Окна/Квартиры/Размеры'"
      ]
     },
     "execution_count": 33,
     "metadata": {},
     "output_type": "execute_result"
    }
   ],
   "source": [
    "path = '/Фасады/Окна/Квартиры/Размеры/'\n",
    "'/'.join(path[:-1].split('/')[-3:])"
   ]
  },
  {
   "cell_type": "code",
   "execution_count": 36,
   "metadata": {},
   "outputs": [
    {
     "name": "stdout",
     "output_type": "stream",
     "text": [
      "-3\n",
      "-2\n",
      "-1\n"
     ]
    }
   ],
   "source": [
    "for i in range(-3,0):\n",
    "    print(i)"
   ]
  },
  {
   "cell_type": "code",
   "execution_count": null,
   "metadata": {},
   "outputs": [],
   "source": []
  }
 ],
 "metadata": {
  "kernelspec": {
   "display_name": "Python 3",
   "language": "python",
   "name": "python3"
  },
  "language_info": {
   "codemirror_mode": {
    "name": "ipython",
    "version": 3
   },
   "file_extension": ".py",
   "mimetype": "text/x-python",
   "name": "python",
   "nbconvert_exporter": "python",
   "pygments_lexer": "ipython3",
   "version": "3.8.5"
  }
 },
 "nbformat": 4,
 "nbformat_minor": 4
}
